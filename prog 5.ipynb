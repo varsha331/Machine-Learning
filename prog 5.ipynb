{
 "cells": [
  {
   "cell_type": "code",
   "execution_count": 1,
   "id": "4f26ca12",
   "metadata": {},
   "outputs": [],
   "source": [
    "import pandas as pd"
   ]
  },
  {
   "cell_type": "code",
   "execution_count": 2,
   "id": "225cbf5d",
   "metadata": {},
   "outputs": [],
   "source": [
    "import matplotlib.pyplot as plt"
   ]
  },
  {
   "cell_type": "code",
   "execution_count": 27,
   "id": "9aacedd1",
   "metadata": {},
   "outputs": [],
   "source": [
    "df = pd.read_csv(\"/home/ignis/Downloads/Food-Truck(For Linear Regression Program)(2).csv\")"
   ]
  },
  {
   "cell_type": "code",
   "execution_count": 28,
   "id": "fc9488c0",
   "metadata": {},
   "outputs": [
    {
     "data": {
      "text/html": [
       "<div>\n",
       "<style scoped>\n",
       "    .dataframe tbody tr th:only-of-type {\n",
       "        vertical-align: middle;\n",
       "    }\n",
       "\n",
       "    .dataframe tbody tr th {\n",
       "        vertical-align: top;\n",
       "    }\n",
       "\n",
       "    .dataframe thead th {\n",
       "        text-align: right;\n",
       "    }\n",
       "</style>\n",
       "<table border=\"1\" class=\"dataframe\">\n",
       "  <thead>\n",
       "    <tr style=\"text-align: right;\">\n",
       "      <th></th>\n",
       "      <th>X</th>\n",
       "      <th>Y</th>\n",
       "    </tr>\n",
       "  </thead>\n",
       "  <tbody>\n",
       "    <tr>\n",
       "      <th>0</th>\n",
       "      <td>6.1101</td>\n",
       "      <td>17.59200</td>\n",
       "    </tr>\n",
       "    <tr>\n",
       "      <th>1</th>\n",
       "      <td>5.5277</td>\n",
       "      <td>9.13020</td>\n",
       "    </tr>\n",
       "    <tr>\n",
       "      <th>2</th>\n",
       "      <td>8.5186</td>\n",
       "      <td>13.66200</td>\n",
       "    </tr>\n",
       "    <tr>\n",
       "      <th>3</th>\n",
       "      <td>7.0032</td>\n",
       "      <td>11.85400</td>\n",
       "    </tr>\n",
       "    <tr>\n",
       "      <th>4</th>\n",
       "      <td>5.8598</td>\n",
       "      <td>6.82330</td>\n",
       "    </tr>\n",
       "    <tr>\n",
       "      <th>...</th>\n",
       "      <td>...</td>\n",
       "      <td>...</td>\n",
       "    </tr>\n",
       "    <tr>\n",
       "      <th>92</th>\n",
       "      <td>5.8707</td>\n",
       "      <td>7.20290</td>\n",
       "    </tr>\n",
       "    <tr>\n",
       "      <th>93</th>\n",
       "      <td>5.3054</td>\n",
       "      <td>1.98690</td>\n",
       "    </tr>\n",
       "    <tr>\n",
       "      <th>94</th>\n",
       "      <td>8.2934</td>\n",
       "      <td>0.14454</td>\n",
       "    </tr>\n",
       "    <tr>\n",
       "      <th>95</th>\n",
       "      <td>13.3940</td>\n",
       "      <td>9.05510</td>\n",
       "    </tr>\n",
       "    <tr>\n",
       "      <th>96</th>\n",
       "      <td>5.4369</td>\n",
       "      <td>0.61705</td>\n",
       "    </tr>\n",
       "  </tbody>\n",
       "</table>\n",
       "<p>97 rows × 2 columns</p>\n",
       "</div>"
      ],
      "text/plain": [
       "          X         Y\n",
       "0    6.1101  17.59200\n",
       "1    5.5277   9.13020\n",
       "2    8.5186  13.66200\n",
       "3    7.0032  11.85400\n",
       "4    5.8598   6.82330\n",
       "..      ...       ...\n",
       "92   5.8707   7.20290\n",
       "93   5.3054   1.98690\n",
       "94   8.2934   0.14454\n",
       "95  13.3940   9.05510\n",
       "96   5.4369   0.61705\n",
       "\n",
       "[97 rows x 2 columns]"
      ]
     },
     "execution_count": 28,
     "metadata": {},
     "output_type": "execute_result"
    }
   ],
   "source": [
    "df"
   ]
  },
  {
   "cell_type": "code",
   "execution_count": 29,
   "id": "6e226a67",
   "metadata": {},
   "outputs": [
    {
     "data": {
      "image/png": "[encoded data removed]",
      "text/plain": [
       "<Figure size 432x288 with 1 Axes>"
      ]
     },
     "metadata": {
      "needs_background": "light"
     },
     "output_type": "display_data"
    }
   ],
   "source": [
    "df.plot(x=\"X\", y=\"Y\", style=\"o\")\n",
    "plt.show()"
   ]
  },
  {
   "cell_type": "code",
   "execution_count": 32,
   "id": "fb92239d",
   "metadata": {},
   "outputs": [
    {
     "name": "stdout",
     "output_type": "stream",
     "text": [
      "8.159800000000002 5.83913505154639\n"
     ]
    }
   ],
   "source": [
    "x_mean = df[\"X\"].mean()\n",
    "y_mean = df[\"Y\"].mean()\n",
    "print(x_mean, y_mean)"
   ]
  },
  {
   "cell_type": "code",
   "execution_count": 34,
   "id": "c9bc3c55",
   "metadata": {},
   "outputs": [
    {
     "data": {
      "text/html": [
       "<div>\n",
       "<style scoped>\n",
       "    .dataframe tbody tr th:only-of-type {\n",
       "        vertical-align: middle;\n",
       "    }\n",
       "\n",
       "    .dataframe tbody tr th {\n",
       "        vertical-align: top;\n",
       "    }\n",
       "\n",
       "    .dataframe thead th {\n",
       "        text-align: right;\n",
       "    }\n",
       "</style>\n",
       "<table border=\"1\" class=\"dataframe\">\n",
       "  <thead>\n",
       "    <tr style=\"text-align: right;\">\n",
       "      <th></th>\n",
       "      <th>X</th>\n",
       "      <th>Y</th>\n",
       "      <th>x</th>\n",
       "      <th>y</th>\n",
       "      <th>x*y</th>\n",
       "      <th>x^2</th>\n",
       "      <th>y^2</th>\n",
       "    </tr>\n",
       "  </thead>\n",
       "  <tbody>\n",
       "    <tr>\n",
       "      <th>0</th>\n",
       "      <td>6.1101</td>\n",
       "      <td>17.59200</td>\n",
       "      <td>-2.0497</td>\n",
       "      <td>11.752865</td>\n",
       "      <td>-24.089847</td>\n",
       "      <td>4.201270</td>\n",
       "      <td>138.129834</td>\n",
       "    </tr>\n",
       "    <tr>\n",
       "      <th>1</th>\n",
       "      <td>5.5277</td>\n",
       "      <td>9.13020</td>\n",
       "      <td>-2.6321</td>\n",
       "      <td>3.291065</td>\n",
       "      <td>-8.662412</td>\n",
       "      <td>6.927950</td>\n",
       "      <td>10.831108</td>\n",
       "    </tr>\n",
       "    <tr>\n",
       "      <th>2</th>\n",
       "      <td>8.5186</td>\n",
       "      <td>13.66200</td>\n",
       "      <td>0.3588</td>\n",
       "      <td>7.822865</td>\n",
       "      <td>2.806844</td>\n",
       "      <td>0.128737</td>\n",
       "      <td>61.197216</td>\n",
       "    </tr>\n",
       "    <tr>\n",
       "      <th>3</th>\n",
       "      <td>7.0032</td>\n",
       "      <td>11.85400</td>\n",
       "      <td>-1.1566</td>\n",
       "      <td>6.014865</td>\n",
       "      <td>-6.956793</td>\n",
       "      <td>1.337724</td>\n",
       "      <td>36.178600</td>\n",
       "    </tr>\n",
       "    <tr>\n",
       "      <th>4</th>\n",
       "      <td>5.8598</td>\n",
       "      <td>6.82330</td>\n",
       "      <td>-2.3000</td>\n",
       "      <td>0.984165</td>\n",
       "      <td>-2.263579</td>\n",
       "      <td>5.290000</td>\n",
       "      <td>0.968581</td>\n",
       "    </tr>\n",
       "    <tr>\n",
       "      <th>...</th>\n",
       "      <td>...</td>\n",
       "      <td>...</td>\n",
       "      <td>...</td>\n",
       "      <td>...</td>\n",
       "      <td>...</td>\n",
       "      <td>...</td>\n",
       "      <td>...</td>\n",
       "    </tr>\n",
       "    <tr>\n",
       "      <th>92</th>\n",
       "      <td>5.8707</td>\n",
       "      <td>7.20290</td>\n",
       "      <td>-2.2891</td>\n",
       "      <td>1.363765</td>\n",
       "      <td>-3.121794</td>\n",
       "      <td>5.239979</td>\n",
       "      <td>1.859855</td>\n",
       "    </tr>\n",
       "    <tr>\n",
       "      <th>93</th>\n",
       "      <td>5.3054</td>\n",
       "      <td>1.98690</td>\n",
       "      <td>-2.8544</td>\n",
       "      <td>-3.852235</td>\n",
       "      <td>10.995820</td>\n",
       "      <td>8.147599</td>\n",
       "      <td>14.839715</td>\n",
       "    </tr>\n",
       "    <tr>\n",
       "      <th>94</th>\n",
       "      <td>8.2934</td>\n",
       "      <td>0.14454</td>\n",
       "      <td>0.1336</td>\n",
       "      <td>-5.694595</td>\n",
       "      <td>-0.760798</td>\n",
       "      <td>0.017849</td>\n",
       "      <td>32.428413</td>\n",
       "    </tr>\n",
       "    <tr>\n",
       "      <th>95</th>\n",
       "      <td>13.3940</td>\n",
       "      <td>9.05510</td>\n",
       "      <td>5.2342</td>\n",
       "      <td>3.215965</td>\n",
       "      <td>16.833004</td>\n",
       "      <td>27.396850</td>\n",
       "      <td>10.342431</td>\n",
       "    </tr>\n",
       "    <tr>\n",
       "      <th>96</th>\n",
       "      <td>5.4369</td>\n",
       "      <td>0.61705</td>\n",
       "      <td>-2.7229</td>\n",
       "      <td>-5.222085</td>\n",
       "      <td>14.219215</td>\n",
       "      <td>7.414184</td>\n",
       "      <td>27.270172</td>\n",
       "    </tr>\n",
       "  </tbody>\n",
       "</table>\n",
       "<p>97 rows × 7 columns</p>\n",
       "</div>"
      ],
      "text/plain": [
       "          X         Y       x          y        x*y        x^2         y^2\n",
       "0    6.1101  17.59200 -2.0497  11.752865 -24.089847   4.201270  138.129834\n",
       "1    5.5277   9.13020 -2.6321   3.291065  -8.662412   6.927950   10.831108\n",
       "2    8.5186  13.66200  0.3588   7.822865   2.806844   0.128737   61.197216\n",
       "3    7.0032  11.85400 -1.1566   6.014865  -6.956793   1.337724   36.178600\n",
       "4    5.8598   6.82330 -2.3000   0.984165  -2.263579   5.290000    0.968581\n",
       "..      ...       ...     ...        ...        ...        ...         ...\n",
       "92   5.8707   7.20290 -2.2891   1.363765  -3.121794   5.239979    1.859855\n",
       "93   5.3054   1.98690 -2.8544  -3.852235  10.995820   8.147599   14.839715\n",
       "94   8.2934   0.14454  0.1336  -5.694595  -0.760798   0.017849   32.428413\n",
       "95  13.3940   9.05510  5.2342   3.215965  16.833004  27.396850   10.342431\n",
       "96   5.4369   0.61705 -2.7229  -5.222085  14.219215   7.414184   27.270172\n",
       "\n",
       "[97 rows x 7 columns]"
      ]
     },
     "execution_count": 34,
     "metadata": {},
     "output_type": "execute_result"
    }
   ],
   "source": [
    "df[\"x\"] = df[\"X\"] - x_mean\n",
    "df[\"y\"] = df[\"Y\"] - y_mean\n",
    "df[\"x*y\"] = df[\"x\"] * df[\"y\"]\n",
    "df[\"x^2\"] = df[\"x\"]**2\n",
    "df[\"y^2\"] = df[\"y\"]**2\n",
    "df\n"
   ]
  },
  {
   "cell_type": "code",
   "execution_count": 35,
   "id": "7e0420b6",
   "metadata": {},
   "outputs": [
    {
     "name": "stdout",
     "output_type": "stream",
     "text": [
      "1715.219528539 1437.6958578600002 2914.8470516572247\n"
     ]
    }
   ],
   "source": [
    "summation_x_y = df[\"x*y\"].sum()\n",
    "summation_x_squared = df[\"x^2\"].sum()\n",
    "summation_y_squared = df[\"y^2\"].sum()\n",
    "print(summation_x_y, summation_x_squared, summation_y_squared)"
   ]
  },
  {
   "cell_type": "code",
   "execution_count": 36,
   "id": "764ee806",
   "metadata": {},
   "outputs": [],
   "source": [
    "correlation = summation_x_y / (summation_x_squared * summation_y_squared)**0.5"
   ]
  },
  {
   "cell_type": "code",
   "execution_count": 37,
   "id": "63f1c6af",
   "metadata": {},
   "outputs": [
    {
     "data": {
      "text/plain": [
       "0.8378732325263409"
      ]
     },
     "execution_count": 37,
     "metadata": {},
     "output_type": "execute_result"
    }
   ],
   "source": [
    "correlation"
   ]
  },
  {
   "cell_type": "code",
   "execution_count": 38,
   "id": "15c65836",
   "metadata": {},
   "outputs": [
    {
     "data": {
      "text/plain": [
       "0.8378732325263409"
      ]
     },
     "execution_count": 38,
     "metadata": {},
     "output_type": "execute_result"
    }
   ],
   "source": [
    "correlation = summation_x_y / (summation_x_squared * summation_y_squared)**0.5\n",
    "correlation"
   ]
  },
  {
   "cell_type": "code",
   "execution_count": 39,
   "id": "6296f997",
   "metadata": {},
   "outputs": [],
   "source": [
    "def getMean(numbers):\n",
    "    if len(numbers) == 0:\n",
    "        return None\n",
    "    else:\n",
    "        current_sum = 0\n",
    "    for i in numbers:\n",
    "        current_sum += i\n",
    "        current_avg = current_sum/len(numbers)\n",
    "    return current_avg"
   ]
  },
  {
   "cell_type": "code",
   "execution_count": 40,
   "id": "662bbf60",
   "metadata": {},
   "outputs": [],
   "source": [
    "def getStandardDeviation(numbers):\n",
    "    if len(numbers) == 0:\n",
    "        return 0\n",
    "    else:\n",
    "        mean = getMean(numbers)\n",
    "    std_deviation = 0\n",
    "    for i in numbers:\n",
    "        std_deviation += (i - mean)**2\n",
    "    return (std_deviation/len(numbers))**0.5"
   ]
  },
  {
   "cell_type": "code",
   "execution_count": 42,
   "id": "24157d59",
   "metadata": {},
   "outputs": [
    {
     "name": "stdout",
     "output_type": "stream",
     "text": [
      "8.159800000000002 5.83913505154639\n",
      "3.849883995922716 5.48178525707763\n"
     ]
    }
   ],
   "source": [
    "x_mean = df[\"X\"].mean()\n",
    "y_mean = df[\"Y\"].mean()\n",
    "print(x_mean, y_mean)\n",
    "std_deviation_x = getStandardDeviation(df[\"x\"].tolist())\n",
    "std_deviation_y = getStandardDeviation(df[\"y\"].tolist())\n",
    "print(std_deviation_x, std_deviation_y)"
   ]
  },
  {
   "cell_type": "code",
   "execution_count": 43,
   "id": "1d977598",
   "metadata": {},
   "outputs": [
    {
     "data": {
      "text/plain": [
       "1.1930336441895935"
      ]
     },
     "execution_count": 43,
     "metadata": {},
     "output_type": "execute_result"
    }
   ],
   "source": [
    "m = correlation * (std_deviation_y / std_deviation_x)\n",
    "m"
   ]
  },
  {
   "cell_type": "code",
   "execution_count": 45,
   "id": "5b23a3c9",
   "metadata": {},
   "outputs": [
    {
     "data": {
      "text/plain": [
       "-3.895780878311858"
      ]
     },
     "execution_count": 45,
     "metadata": {},
     "output_type": "execute_result"
    }
   ],
   "source": [
    "c = df[\"Y\"].mean() - m * df[\"X\"].mean()\n",
    "c"
   ]
  },
  {
   "cell_type": "code",
   "execution_count": 47,
   "id": "be9c97af",
   "metadata": {},
   "outputs": [],
   "source": [
    "df[\"y_prediction\"] = m * df[\"X\"] + c"
   ]
  },
  {
   "cell_type": "code",
   "execution_count": 49,
   "id": "36e97415",
   "metadata": {},
   "outputs": [
    {
     "data": {
      "image/png": "[encoded data removed]",
      "text/plain": [
       "<Figure size 432x288 with 1 Axes>"
      ]
     },
     "metadata": {
      "needs_background": "light"
     },
     "output_type": "display_data"
    }
   ],
   "source": [
    "plot1 = plt.scatter(df[\"X\"], df[\"Y\"])\n",
    "plot2 = plt.plot(df[\"X\"], df[\"y_prediction\"],color=\"red\")\n",
    "plt.show()"
   ]
  },
  {
   "cell_type": "code",
   "execution_count": 50,
   "id": "eff06928",
   "metadata": {},
   "outputs": [
    {
     "data": {
      "text/plain": [
       "2046.314604718038"
      ]
     },
     "execution_count": 50,
     "metadata": {},
     "output_type": "execute_result"
    }
   ],
   "source": [
    "ssr = sum((df[\"y_prediction\"]-y_mean)**2)\n",
    "ssr"
   ]
  },
  {
   "cell_type": "code",
   "execution_count": 51,
   "id": "b75b942f",
   "metadata": {},
   "outputs": [
    {
     "data": {
      "text/plain": [
       "4175.795767508352"
      ]
     },
     "execution_count": 51,
     "metadata": {},
     "output_type": "execute_result"
    }
   ],
   "source": [
    "sse = ((df[\"y\"]-df[\"y_prediction\"])**2).sum()\n",
    "sse"
   ]
  },
  {
   "cell_type": "code",
   "execution_count": 52,
   "id": "bfa4bf81",
   "metadata": {},
   "outputs": [
    {
     "data": {
      "text/plain": [
       "6222.110372226398"
      ]
     },
     "execution_count": 52,
     "metadata": {},
     "output_type": "execute_result"
    }
   ],
   "source": [
    "tss = sum((df[\"y\"]-y_mean)**2)\n",
    "tss"
   ]
  },
  {
   "cell_type": "code",
   "execution_count": 53,
   "id": "a6df765b",
   "metadata": {},
   "outputs": [
    {
     "data": {
      "text/plain": [
       "6222.11037222639"
      ]
     },
     "execution_count": 53,
     "metadata": {},
     "output_type": "execute_result"
    }
   ],
   "source": [
    "tss_new=sse+ssr\n",
    "tss_new"
   ]
  },
  {
   "cell_type": "code",
   "execution_count": 54,
   "id": "36f1aab8",
   "metadata": {},
   "outputs": [
    {
     "data": {
      "text/plain": [
       "0.7020315537841398"
      ]
     },
     "execution_count": 54,
     "metadata": {},
     "output_type": "execute_result"
    }
   ],
   "source": [
    "correlation**2"
   ]
  },
  {
   "cell_type": "code",
   "execution_count": 55,
   "id": "9e2c781f",
   "metadata": {},
   "outputs": [
    {
     "data": {
      "text/plain": [
       "43.497872578212"
      ]
     },
     "execution_count": 55,
     "metadata": {},
     "output_type": "execute_result"
    }
   ],
   "source": [
    "cost=sse/96\n",
    "cost"
   ]
  },
  {
   "cell_type": "code",
   "execution_count": null,
   "id": "a2f901c4",
   "metadata": {},
   "outputs": [],
   "source": []
  },
  {
   "cell_type": "code",
   "execution_count": null,
   "id": "3130fb6e",
   "metadata": {},
   "outputs": [],
   "source": []
  }
 ],
 "metadata": {
  "kernelspec": {
   "display_name": "Python 3 (ipykernel)",
   "language": "python",
   "name": "python3"
  },
  "language_info": {
   "codemirror_mode": {
    "name": "ipython",
    "version": 3
   },
   "file_extension": ".py",
   "mimetype": "text/x-python",
   "name": "python",
   "nbconvert_exporter": "python",
   "pygments_lexer": "ipython3",
   "version": "3.10.6"
  }
 },
 "nbformat": 4,
 "nbformat_minor": 5
}
